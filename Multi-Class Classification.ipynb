{
 "cells": [
  {
   "cell_type": "code",
   "execution_count": 1,
   "metadata": {},
   "outputs": [
    {
     "name": "stdout",
     "output_type": "stream",
     "text": [
      "headar :     sig1.x    sig1.y    sig2.x    sig2.y   sig3.x    sig3.y      sig\n",
      "0       1 -284.9896 -140.2292 -301.4167 -71.3021 -288.3125 -71.7604\n",
      "1       2 -269.9896 -133.2292 -288.4167 -64.3021 -265.3125 -58.7604\n",
      "2       3 -249.9896 -122.2292 -266.4167 -51.3021 -242.3125 -45.7604\n",
      "3       4 -228.9896 -110.2292 -241.4167 -38.3021 -220.3125 -32.7604\n",
      "4       5 -207.9896  -98.2292 -215.4167 -23.3021 -199.3125 -20.7604\n",
      "vowel_train :      sig1.x    sig1.y    sig2.x    sig2.y    sig3.x    sig3.y       sig\n",
      "0        1 -284.9896 -140.2292 -301.4167  -71.3021 -288.3125  -71.7604\n",
      "1        2 -269.9896 -133.2292 -288.4167  -64.3021 -265.3125  -58.7604\n",
      "2        3 -249.9896 -122.2292 -266.4167  -51.3021 -242.3125  -45.7604\n",
      "3        4 -228.9896 -110.2292 -241.4167  -38.3021 -220.3125  -32.7604\n",
      "4        5 -207.9896  -98.2292 -215.4167  -23.3021 -199.3125  -20.7604\n",
      "..     ...       ...       ...       ...       ...       ...       ...\n",
      "70      71 -125.9896 -210.2292 -153.4167 -177.3021 -174.3125 -225.7604\n",
      "71      72 -125.9896 -192.2292 -152.4167 -159.3021 -188.3125 -211.7604\n",
      "72      73 -123.9896 -183.2292 -149.4167 -141.3021 -198.3125 -196.7604\n",
      "73      74 -123.9896 -183.2292 -143.4167 -123.3021 -204.3125 -180.7604\n",
      "74      75 -121.9896 -173.2292 -134.4167 -106.3021 -207.3125 -165.7604\n",
      "\n",
      "[75 rows x 7 columns]\n",
      "vowel_test :      sig1.x    sig1.y    sig2.x    sig2.y    sig3.x    sig3.y       sig\n",
      "0        1 -284.9896 -140.2292 -301.4167  -71.3021 -288.3125  -71.7604\n",
      "1        2 -269.9896 -133.2292 -288.4167  -64.3021 -265.3125  -58.7604\n",
      "2        3 -249.9896 -122.2292 -266.4167  -51.3021 -242.3125  -45.7604\n",
      "3        4 -228.9896 -110.2292 -241.4167  -38.3021 -220.3125  -32.7604\n",
      "4        5 -207.9896  -98.2292 -215.4167  -23.3021 -199.3125  -20.7604\n",
      "5        6 -185.9896  -85.2292 -214.4167  -23.3021 -177.3125   -7.7604\n",
      "6        7 -162.9896  -71.2292 -214.4167  -23.3021 -156.3125    4.2396\n",
      "7        8 -161.9896  -71.2292 -195.4167  -12.3021 -134.3125   17.2396\n",
      "8        9 -161.9896  -71.2292 -174.4167   -1.3021 -113.3125   29.2396\n",
      "9       10 -153.9896  -66.2292 -152.4167   10.6979  -91.3125   41.2396\n",
      "10      11 -134.9896  -55.2292 -130.4167   22.6979  -70.3125   53.2396\n",
      "11      12 -115.9896  -43.2292 -108.4167   35.6979  -50.3125   65.2396\n",
      "12      13  -95.9896  -31.2292  -74.4167   54.6979  -29.3125   77.2396\n",
      "13      14  -75.9896  -18.2292  -28.4167   81.6979   -8.3125   89.2396\n",
      "14      15  -55.9896   -5.2292   18.5833  108.6979   11.6875  101.2396\n"
     ]
    },
    {
     "name": "stderr",
     "output_type": "stream",
     "text": [
      "C:\\ProgramData\\Anaconda3\\lib\\site-packages\\sklearn\\linear_model\\_logistic.py:940: ConvergenceWarning: lbfgs failed to converge (status=1):\n",
      "STOP: TOTAL NO. of ITERATIONS REACHED LIMIT.\n",
      "\n",
      "Increase the number of iterations (max_iter) or scale the data as shown in:\n",
      "    https://scikit-learn.org/stable/modules/preprocessing.html\n",
      "Please also refer to the documentation for alternative solver options:\n",
      "    https://scikit-learn.org/stable/modules/linear_model.html#logistic-regression\n",
      "  extra_warning_msg=_LOGISTIC_SOLVER_CONVERGENCE_MSG)\n"
     ]
    },
    {
     "data": {
      "text/plain": [
       "1.0"
      ]
     },
     "execution_count": 1,
     "metadata": {},
     "output_type": "execute_result"
    }
   ],
   "source": [
    "# Multi-Class Classification\n",
    "\n",
    "import pandas as pd\n",
    "import sklearn as sk\n",
    "from sklearn.linear_model import LogisticRegression\n",
    "from sklearn import svm\n",
    "from sklearn.ensemble import RandomForestClassifier\n",
    "from sklearn.neural_network import MLPClassifier\n",
    "\n",
    "df = pd.read_csv('signatureData.csv', sep=',',header=0) # read file data\n",
    "print('headar : ',df. head())\n",
    "\n",
    "\n",
    "\n",
    "vowel_train=df[:75] # select training\n",
    "vowel_test=df[:15] # select test\n",
    "print('vowel_train : ',vowel_train)\n",
    "print('vowel_test : ',vowel_test)\n",
    "\n",
    "## selection prediction column of training\n",
    "y_tr = vowel_train.iloc[:,0] \n",
    "X_tr = vowel_train.iloc[:,1:] \n",
    "\n",
    "# selection prediction column of test\n",
    "y_test = vowel_test.iloc[:,0]\n",
    "X_test = vowel_test.iloc[:,1:]\n",
    "#use Logistic Regression to prediction\n",
    "LR = LogisticRegression(random_state=0, solver='lbfgs', multi_class='multinomial').fit(X_tr, y_tr)\n",
    "LR.predict(X_test) # prediction value\n",
    "round(LR.score(X_test,y_test), 4) # accuracy\n",
    "\n"
   ]
  },
  {
   "cell_type": "code",
   "execution_count": 2,
   "metadata": {},
   "outputs": [
    {
     "data": {
      "text/plain": [
       "1.0"
      ]
     },
     "execution_count": 2,
     "metadata": {},
     "output_type": "execute_result"
    }
   ],
   "source": [
    "# use Support Vector Machines to prediction\n",
    "SVM = svm.SVC(decision_function_shape=\"ovo\").fit(X_tr, y_tr)\n",
    "SVM.predict(X_test) # prediction value\n",
    "round(SVM.score(X_test, y_test), 4) # accuracy"
   ]
  },
  {
   "cell_type": "code",
   "execution_count": 3,
   "metadata": {},
   "outputs": [
    {
     "data": {
      "text/plain": [
       "1.0"
      ]
     },
     "execution_count": 3,
     "metadata": {},
     "output_type": "execute_result"
    }
   ],
   "source": [
    "# use Random Forests to prediction\n",
    "\n",
    "RF = RandomForestClassifier(n_estimators=1000, max_depth=10, random_state=0).fit(X_tr, y_tr)\n",
    "RF.predict(X_test)# prediction value\n",
    "round(RF.score(X_test, y_test), 4) # accuracy"
   ]
  },
  {
   "cell_type": "code",
   "execution_count": 4,
   "metadata": {},
   "outputs": [
    {
     "name": "stderr",
     "output_type": "stream",
     "text": [
      "C:\\ProgramData\\Anaconda3\\lib\\site-packages\\sklearn\\neural_network\\_multilayer_perceptron.py:571: ConvergenceWarning: Stochastic Optimizer: Maximum iterations (200) reached and the optimization hasn't converged yet.\n",
      "  % self.max_iter, ConvergenceWarning)\n"
     ]
    },
    {
     "data": {
      "text/plain": [
       "1.0"
      ]
     },
     "execution_count": 4,
     "metadata": {},
     "output_type": "execute_result"
    }
   ],
   "source": [
    "# use Neural Networks to prediction\n",
    "\n",
    "NN = MLPClassifier(solver='adam', alpha=1e-5, hidden_layer_sizes=(250, 80), random_state=0).fit(X_tr, y_tr)\n",
    "NN.predict(X_test)# prediction value\n",
    "round(NN.score(X_test, y_test), 4) # accuracy"
   ]
  },
  {
   "cell_type": "code",
   "execution_count": null,
   "metadata": {},
   "outputs": [],
   "source": []
  }
 ],
 "metadata": {
  "kernelspec": {
   "display_name": "Python 3",
   "language": "python",
   "name": "python3"
  },
  "language_info": {
   "codemirror_mode": {
    "name": "ipython",
    "version": 3
   },
   "file_extension": ".py",
   "mimetype": "text/x-python",
   "name": "python",
   "nbconvert_exporter": "python",
   "pygments_lexer": "ipython3",
   "version": "3.7.6"
  }
 },
 "nbformat": 4,
 "nbformat_minor": 4
}
